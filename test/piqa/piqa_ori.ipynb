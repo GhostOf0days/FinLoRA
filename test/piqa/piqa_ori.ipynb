{
 "cells": [
  {
   "cell_type": "code",
   "execution_count": 1,
   "metadata": {},
   "outputs": [],
   "source": [
    "import os\n",
    "os.environ[\"CUDA_VISIBLE_DEVICES\"] = '3'\n",
    "\n",
    "import warnings\n",
    "warnings.filterwarnings(\"ignore\")\n",
    "\n",
    "import sys\n",
    "sys.path.append(\"/xfs/home/tensor_zy/guoxuan/Task3/ChatGLM/inferencing\")"
   ]
  },
  {
   "cell_type": "code",
   "execution_count": 2,
   "metadata": {},
   "outputs": [],
   "source": [
    "from transformers import AutoModel, AutoTokenizer\n",
    "from sklearn.metrics import accuracy_score,f1_score,roc_auc_score,recall_score,precision_score, auc\n",
    "from tqdm import tqdm\n",
    "import pandas as pd\n",
    "import json, torch\n",
    "\n",
    "from cover_alpaca2jsonl import format_example"
   ]
  },
  {
   "cell_type": "code",
   "execution_count": 3,
   "metadata": {},
   "outputs": [
    {
     "name": "stdout",
     "output_type": "stream",
     "text": [
      "[2023-07-26 19:34:27,670] [INFO] [real_accelerator.py:110:get_accelerator] Setting ds_accelerator to cuda (auto detect)\n",
      "\n",
      "===================================BUG REPORT===================================\n",
      "Welcome to bitsandbytes. For bug reports, please run\n",
      "\n",
      "python -m bitsandbytes\n",
      "\n",
      " and submit this information together with your error trace to: https://github.com/TimDettmers/bitsandbytes/issues\n",
      "================================================================================\n",
      "bin /xfs/home/tensor_zy/anaconda3/lib/python3.8/site-packages/bitsandbytes/libbitsandbytes_cuda110.so\n",
      "CUDA SETUP: CUDA runtime path found: /xfs/home/tensor_zy/anaconda3/envs/isaacgym/lib/libcudart.so\n",
      "CUDA SETUP: Highest compute capability among GPUs detected: 8.0\n",
      "CUDA SETUP: Detected CUDA version 110\n",
      "CUDA SETUP: Loading binary /xfs/home/tensor_zy/anaconda3/lib/python3.8/site-packages/bitsandbytes/libbitsandbytes_cuda110.so...\n"
     ]
    },
    {
     "name": "stderr",
     "output_type": "stream",
     "text": [
      "The model weights are not tied. Please use the `tie_weights` method before using the `infer_auto_device` function.\n"
     ]
    },
    {
     "data": {
      "application/vnd.jupyter.widget-view+json": {
       "model_id": "738ff5b452b541b1bee71811e742c39a",
       "version_major": 2,
       "version_minor": 0
      },
      "text/plain": [
       "Loading checkpoint shards:   0%|          | 0/7 [00:00<?, ?it/s]"
      ]
     },
     "metadata": {},
     "output_type": "display_data"
    }
   ],
   "source": [
    "model_path = \"THUDM/chatglm2-6b\"\n",
    "tokenizer = AutoTokenizer.from_pretrained(model_path, trust_remote_code=True)\n",
    "# model = AutoModel.from_pretrained(model_path, trust_remote_code=True, load_in_8bit=True, device = \"cuda\")\n",
    "model = AutoModel.from_pretrained(model_path, trust_remote_code=True, load_in_8bit=True, device_map = \"auto\")\n",
    "# model = AutoModel.from_pretrained(model_path, trust_remote_code=True, device_map = \"auto\")\n",
    "model = torch.compile(model)\n",
    "model = model.eval()"
   ]
  },
  {
   "attachments": {},
   "cell_type": "markdown",
   "metadata": {},
   "source": [
    "### Load Dataset"
   ]
  },
  {
   "cell_type": "code",
   "execution_count": 4,
   "metadata": {},
   "outputs": [
    {
     "name": "stderr",
     "output_type": "stream",
     "text": [
      "Found cached dataset piqa (/xfs/home/tensor_zy/.cache/huggingface/datasets/piqa/plain_text/1.1.0/6c611c1a9bf220943c4174e117d3b660859665baf1d43156230116185312d011)\n"
     ]
    },
    {
     "data": {
      "application/vnd.jupyter.widget-view+json": {
       "model_id": "8f0eedbd12914ee390ec8495ec928291",
       "version_major": 2,
       "version_minor": 0
      },
      "text/plain": [
       "  0%|          | 0/3 [00:00<?, ?it/s]"
      ]
     },
     "metadata": {},
     "output_type": "display_data"
    },
    {
     "data": {
      "text/plain": [
       "Dataset({\n",
       "    features: ['goal', 'sol1', 'sol2', 'label'],\n",
       "    num_rows: 1838\n",
       "})"
      ]
     },
     "execution_count": 4,
     "metadata": {},
     "output_type": "execute_result"
    }
   ],
   "source": [
    "from datasets import load_dataset\n",
    "import datasets\n",
    "\n",
    "dataset = load_dataset(\"piqa\")\n",
    "dataset = dataset['validation']\n",
    "dataset"
   ]
  },
  {
   "cell_type": "code",
   "execution_count": 5,
   "metadata": {},
   "outputs": [
    {
     "data": {
      "text/html": [
       "<div>\n",
       "<style scoped>\n",
       "    .dataframe tbody tr th:only-of-type {\n",
       "        vertical-align: middle;\n",
       "    }\n",
       "\n",
       "    .dataframe tbody tr th {\n",
       "        vertical-align: top;\n",
       "    }\n",
       "\n",
       "    .dataframe thead th {\n",
       "        text-align: right;\n",
       "    }\n",
       "</style>\n",
       "<table border=\"1\" class=\"dataframe\">\n",
       "  <thead>\n",
       "    <tr style=\"text-align: right;\">\n",
       "      <th></th>\n",
       "      <th>goal</th>\n",
       "      <th>sol1</th>\n",
       "      <th>sol2</th>\n",
       "      <th>label</th>\n",
       "      <th>instruction</th>\n",
       "      <th>input</th>\n",
       "      <th>output</th>\n",
       "    </tr>\n",
       "  </thead>\n",
       "  <tbody>\n",
       "    <tr>\n",
       "      <th>0</th>\n",
       "      <td>How do I ready a guinea pig cage for it's new ...</td>\n",
       "      <td>Provide the guinea pig with a cage full of a f...</td>\n",
       "      <td>Provide the guinea pig with a cage full of a f...</td>\n",
       "      <td>0</td>\n",
       "      <td>Please choose the best answer from the two opt...</td>\n",
       "      <td>How do I ready a guinea pig cage for it's new ...</td>\n",
       "      <td>Provide the guinea pig with a cage full of a f...</td>\n",
       "    </tr>\n",
       "    <tr>\n",
       "      <th>1</th>\n",
       "      <td>dresser</td>\n",
       "      <td>replace drawer with bobby pin</td>\n",
       "      <td>finish, woodgrain with  bobby pin</td>\n",
       "      <td>1</td>\n",
       "      <td>Please choose the best answer from the two opt...</td>\n",
       "      <td>dresser {replace drawer with bobby pin /finish...</td>\n",
       "      <td>finish, woodgrain with  bobby pin</td>\n",
       "    </tr>\n",
       "  </tbody>\n",
       "</table>\n",
       "</div>"
      ],
      "text/plain": [
       "                                                goal  \\\n",
       "0  How do I ready a guinea pig cage for it's new ...   \n",
       "1                                            dresser   \n",
       "\n",
       "                                                sol1  \\\n",
       "0  Provide the guinea pig with a cage full of a f...   \n",
       "1                     replace drawer with bobby pin    \n",
       "\n",
       "                                                sol2  label  \\\n",
       "0  Provide the guinea pig with a cage full of a f...      0   \n",
       "1                 finish, woodgrain with  bobby pin       1   \n",
       "\n",
       "                                         instruction  \\\n",
       "0  Please choose the best answer from the two opt...   \n",
       "1  Please choose the best answer from the two opt...   \n",
       "\n",
       "                                               input  \\\n",
       "0  How do I ready a guinea pig cage for it's new ...   \n",
       "1  dresser {replace drawer with bobby pin /finish...   \n",
       "\n",
       "                                              output  \n",
       "0  Provide the guinea pig with a cage full of a f...  \n",
       "1                 finish, woodgrain with  bobby pin   "
      ]
     },
     "execution_count": 5,
     "metadata": {},
     "output_type": "execute_result"
    }
   ],
   "source": [
    "dataset = dataset.to_pandas()\n",
    "dataset['instruction'] = 'Please choose the best answer from the two options.'\n",
    "dataset['input'] = dataset.apply(lambda x:x['goal'] + \" {\" + x['sol1']+\"/\"+x[\"sol2\"]+\"}.\",axis = 1)\n",
    "dataset['output'] = dataset.apply(lambda x:x['sol1'] if x['label'] == 0 else x['sol2'], axis = 1)\n",
    "dataset.head(2)"
   ]
  },
  {
   "cell_type": "code",
   "execution_count": 6,
   "metadata": {},
   "outputs": [
    {
     "data": {
      "text/html": [
       "<div>\n",
       "<style scoped>\n",
       "    .dataframe tbody tr th:only-of-type {\n",
       "        vertical-align: middle;\n",
       "    }\n",
       "\n",
       "    .dataframe tbody tr th {\n",
       "        vertical-align: top;\n",
       "    }\n",
       "\n",
       "    .dataframe thead th {\n",
       "        text-align: right;\n",
       "    }\n",
       "</style>\n",
       "<table border=\"1\" class=\"dataframe\">\n",
       "  <thead>\n",
       "    <tr style=\"text-align: right;\">\n",
       "      <th></th>\n",
       "      <th>goal</th>\n",
       "      <th>sol1</th>\n",
       "      <th>sol2</th>\n",
       "      <th>label</th>\n",
       "      <th>instruction</th>\n",
       "      <th>input</th>\n",
       "      <th>output</th>\n",
       "      <th>context</th>\n",
       "      <th>target</th>\n",
       "    </tr>\n",
       "  </thead>\n",
       "  <tbody>\n",
       "    <tr>\n",
       "      <th>0</th>\n",
       "      <td>How do I ready a guinea pig cage for it's new ...</td>\n",
       "      <td>Provide the guinea pig with a cage full of a f...</td>\n",
       "      <td>Provide the guinea pig with a cage full of a f...</td>\n",
       "      <td>0</td>\n",
       "      <td>Please choose the best answer from the two opt...</td>\n",
       "      <td>How do I ready a guinea pig cage for it's new ...</td>\n",
       "      <td>Provide the guinea pig with a cage full of a f...</td>\n",
       "      <td>Instruction: Please choose the best answer fro...</td>\n",
       "      <td>Provide the guinea pig with a cage full of a f...</td>\n",
       "    </tr>\n",
       "    <tr>\n",
       "      <th>1</th>\n",
       "      <td>dresser</td>\n",
       "      <td>replace drawer with bobby pin</td>\n",
       "      <td>finish, woodgrain with  bobby pin</td>\n",
       "      <td>1</td>\n",
       "      <td>Please choose the best answer from the two opt...</td>\n",
       "      <td>dresser {replace drawer with bobby pin /finish...</td>\n",
       "      <td>finish, woodgrain with  bobby pin</td>\n",
       "      <td>Instruction: Please choose the best answer fro...</td>\n",
       "      <td>finish, woodgrain with  bobby pin</td>\n",
       "    </tr>\n",
       "  </tbody>\n",
       "</table>\n",
       "</div>"
      ],
      "text/plain": [
       "                                                goal  \\\n",
       "0  How do I ready a guinea pig cage for it's new ...   \n",
       "1                                            dresser   \n",
       "\n",
       "                                                sol1  \\\n",
       "0  Provide the guinea pig with a cage full of a f...   \n",
       "1                     replace drawer with bobby pin    \n",
       "\n",
       "                                                sol2  label  \\\n",
       "0  Provide the guinea pig with a cage full of a f...      0   \n",
       "1                 finish, woodgrain with  bobby pin       1   \n",
       "\n",
       "                                         instruction  \\\n",
       "0  Please choose the best answer from the two opt...   \n",
       "1  Please choose the best answer from the two opt...   \n",
       "\n",
       "                                               input  \\\n",
       "0  How do I ready a guinea pig cage for it's new ...   \n",
       "1  dresser {replace drawer with bobby pin /finish...   \n",
       "\n",
       "                                              output  \\\n",
       "0  Provide the guinea pig with a cage full of a f...   \n",
       "1                 finish, woodgrain with  bobby pin    \n",
       "\n",
       "                                             context  \\\n",
       "0  Instruction: Please choose the best answer fro...   \n",
       "1  Instruction: Please choose the best answer fro...   \n",
       "\n",
       "                                              target  \n",
       "0  Provide the guinea pig with a cage full of a f...  \n",
       "1                 finish, woodgrain with  bobby pin   "
      ]
     },
     "execution_count": 6,
     "metadata": {},
     "output_type": "execute_result"
    }
   ],
   "source": [
    "dataset[[\"context\",\"target\"]] = dataset.apply(format_example, axis = 1, result_type=\"expand\")\n",
    "dataset.head(2)"
   ]
  },
  {
   "cell_type": "code",
   "execution_count": 7,
   "metadata": {},
   "outputs": [
    {
     "data": {
      "text/plain": [
       "1838"
      ]
     },
     "execution_count": 7,
     "metadata": {},
     "output_type": "execute_result"
    }
   ],
   "source": [
    "context = dataset['context'].tolist()\n",
    "len(context)"
   ]
  },
  {
   "cell_type": "code",
   "execution_count": 8,
   "metadata": {},
   "outputs": [
    {
     "data": {
      "text/plain": [
       "28"
      ]
     },
     "execution_count": 8,
     "metadata": {},
     "output_type": "execute_result"
    }
   ],
   "source": [
    "batch_size = 64\n",
    "\n",
    "total_steps = dataset.shape[0]//batch_size\n",
    "total_steps"
   ]
  },
  {
   "cell_type": "code",
   "execution_count": 9,
   "metadata": {},
   "outputs": [
    {
     "name": "stderr",
     "output_type": "stream",
     "text": [
      " 14%|█▍        | 4/29 [01:02<06:33, 15.75s/it]Input length of input_ids is 515, but `max_length` is set to 512. This can lead to unexpected behavior. You should consider increasing `max_new_tokens`.\n",
      "100%|██████████| 29/29 [08:58<00:00, 18.55s/it]\n"
     ]
    }
   ],
   "source": [
    "res_list = []\n",
    "res_sentences_list = []\n",
    "out_text_list = []\n",
    "\n",
    "for i in tqdm(range(total_steps+1)):\n",
    "    tmp_context = context[i* batch_size:(i+1)* batch_size]\n",
    "    tokens = tokenizer(tmp_context, return_tensors='pt', padding=True, max_length=512)\n",
    "    for k in tokens.keys():\n",
    "        tokens[k] = tokens[k].cuda()\n",
    "    \n",
    "    res = model.generate(**tokens, max_length=512)\n",
    "    res_sentences = [tokenizer.decode(i) for i in res]\n",
    "    out_text = [o.split(\"Answer: \")[1] for o in res_sentences]\n",
    "    res_list += res\n",
    "    res_sentences_list += res_sentences\n",
    "    out_text_list += out_text\n",
    "    torch.cuda.empty_cache()"
   ]
  },
  {
   "cell_type": "code",
   "execution_count": 10,
   "metadata": {},
   "outputs": [],
   "source": [
    "res_list = [i.cpu() for i in res_list]"
   ]
  },
  {
   "cell_type": "code",
   "execution_count": 11,
   "metadata": {},
   "outputs": [],
   "source": [
    "dataset[\"res\"] = res_list\n",
    "dataset[\"res_sentences\"] = res_sentences_list\n",
    "dataset[\"out_text\"] = out_text_list"
   ]
  },
  {
   "cell_type": "code",
   "execution_count": 12,
   "metadata": {},
   "outputs": [
    {
     "data": {
      "text/plain": [
       "['1.',\n",
       " '\\n\\nOutput: bobby pin / finish, woodgrain',\n",
       " '1',\n",
       " '1.',\n",
       " '1',\n",
       " '1.\\n\\nExplanation: The first option is recommended as it is more likely to remove the soap scum that has formed on the shower door.',\n",
       " '1\\n\\nExplanation: The instructions are similar for both options, but option 1 is the correct one.',\n",
       " '1\\n\\n Output: Press a piece of double-sided tape to the glass jar and then press the toilet paper onto the tape.',\n",
       " '1\\n\\n Output: Find tissue paper and fold it in half. Take scissors and cut out pieces of the paper in the middle. When you are done tape it to your window.',\n",
       " '1.\\n\\nExplanation: Wrap the cord around your hand and elbow is the best way to neatly wrap up an extension cord.']"
      ]
     },
     "execution_count": 12,
     "metadata": {},
     "output_type": "execute_result"
    }
   ],
   "source": [
    "out_text_list[:10]"
   ]
  },
  {
   "cell_type": "code",
   "execution_count": 13,
   "metadata": {},
   "outputs": [
    {
     "data": {
      "text/html": [
       "<div>\n",
       "<style scoped>\n",
       "    .dataframe tbody tr th:only-of-type {\n",
       "        vertical-align: middle;\n",
       "    }\n",
       "\n",
       "    .dataframe tbody tr th {\n",
       "        vertical-align: top;\n",
       "    }\n",
       "\n",
       "    .dataframe thead th {\n",
       "        text-align: right;\n",
       "    }\n",
       "</style>\n",
       "<table border=\"1\" class=\"dataframe\">\n",
       "  <thead>\n",
       "    <tr style=\"text-align: right;\">\n",
       "      <th></th>\n",
       "      <th>goal</th>\n",
       "      <th>sol1</th>\n",
       "      <th>sol2</th>\n",
       "      <th>label</th>\n",
       "      <th>instruction</th>\n",
       "      <th>input</th>\n",
       "      <th>output</th>\n",
       "      <th>context</th>\n",
       "      <th>target</th>\n",
       "      <th>res</th>\n",
       "      <th>res_sentences</th>\n",
       "      <th>out_text</th>\n",
       "    </tr>\n",
       "  </thead>\n",
       "  <tbody>\n",
       "    <tr>\n",
       "      <th>0</th>\n",
       "      <td>How do I ready a guinea pig cage for it's new ...</td>\n",
       "      <td>Provide the guinea pig with a cage full of a f...</td>\n",
       "      <td>Provide the guinea pig with a cage full of a f...</td>\n",
       "      <td>0</td>\n",
       "      <td>Please choose the best answer from the two opt...</td>\n",
       "      <td>How do I ready a guinea pig cage for it's new ...</td>\n",
       "      <td>Provide the guinea pig with a cage full of a f...</td>\n",
       "      <td>Instruction: Please choose the best answer fro...</td>\n",
       "      <td>Provide the guinea pig with a cage full of a f...</td>\n",
       "      <td>[tensor(0), tensor(0), tensor(0), tensor(0), t...</td>\n",
       "      <td>Instruction: Please choose the best answer fro...</td>\n",
       "      <td>1.</td>\n",
       "    </tr>\n",
       "    <tr>\n",
       "      <th>1</th>\n",
       "      <td>dresser</td>\n",
       "      <td>replace drawer with bobby pin</td>\n",
       "      <td>finish, woodgrain with  bobby pin</td>\n",
       "      <td>1</td>\n",
       "      <td>Please choose the best answer from the two opt...</td>\n",
       "      <td>dresser {replace drawer with bobby pin /finish...</td>\n",
       "      <td>finish, woodgrain with  bobby pin</td>\n",
       "      <td>Instruction: Please choose the best answer fro...</td>\n",
       "      <td>finish, woodgrain with  bobby pin</td>\n",
       "      <td>[tensor(0), tensor(0), tensor(0), tensor(0), t...</td>\n",
       "      <td>Instruction: Please choose the best answer fro...</td>\n",
       "      <td>\\n\\nOutput: bobby pin / finish, woodgrain</td>\n",
       "    </tr>\n",
       "    <tr>\n",
       "      <th>2</th>\n",
       "      <td>To fight Ivan Drago in Rocky for sega master s...</td>\n",
       "      <td>Drago isn't in this game because it was releas...</td>\n",
       "      <td>You have to defeat Apollo Creed and Clubber La...</td>\n",
       "      <td>1</td>\n",
       "      <td>Please choose the best answer from the two opt...</td>\n",
       "      <td>To fight Ivan Drago in Rocky for sega master s...</td>\n",
       "      <td>You have to defeat Apollo Creed and Clubber La...</td>\n",
       "      <td>Instruction: Please choose the best answer fro...</td>\n",
       "      <td>You have to defeat Apollo Creed and Clubber La...</td>\n",
       "      <td>[tensor(0), tensor(0), tensor(0), tensor(0), t...</td>\n",
       "      <td>Instruction: Please choose the best answer fro...</td>\n",
       "      <td>1</td>\n",
       "    </tr>\n",
       "    <tr>\n",
       "      <th>3</th>\n",
       "      <td>Make outdoor pillow.</td>\n",
       "      <td>Blow into tin can and tie with rubber band.</td>\n",
       "      <td>Blow into trash bag and tie with rubber band.</td>\n",
       "      <td>1</td>\n",
       "      <td>Please choose the best answer from the two opt...</td>\n",
       "      <td>Make outdoor pillow. {Blow into tin can and ti...</td>\n",
       "      <td>Blow into trash bag and tie with rubber band.</td>\n",
       "      <td>Instruction: Please choose the best answer fro...</td>\n",
       "      <td>Blow into trash bag and tie with rubber band.</td>\n",
       "      <td>[tensor(0), tensor(0), tensor(0), tensor(0), t...</td>\n",
       "      <td>Instruction: Please choose the best answer fro...</td>\n",
       "      <td>1.</td>\n",
       "    </tr>\n",
       "    <tr>\n",
       "      <th>4</th>\n",
       "      <td>ice box</td>\n",
       "      <td>will turn into a cooler if you add water to it</td>\n",
       "      <td>will turn into a cooler if you add soda to it</td>\n",
       "      <td>0</td>\n",
       "      <td>Please choose the best answer from the two opt...</td>\n",
       "      <td>ice box {will turn into a cooler if you add wa...</td>\n",
       "      <td>will turn into a cooler if you add water to it</td>\n",
       "      <td>Instruction: Please choose the best answer fro...</td>\n",
       "      <td>will turn into a cooler if you add water to it</td>\n",
       "      <td>[tensor(0), tensor(0), tensor(0), tensor(0), t...</td>\n",
       "      <td>Instruction: Please choose the best answer fro...</td>\n",
       "      <td>1</td>\n",
       "    </tr>\n",
       "    <tr>\n",
       "      <th>...</th>\n",
       "      <td>...</td>\n",
       "      <td>...</td>\n",
       "      <td>...</td>\n",
       "      <td>...</td>\n",
       "      <td>...</td>\n",
       "      <td>...</td>\n",
       "      <td>...</td>\n",
       "      <td>...</td>\n",
       "      <td>...</td>\n",
       "      <td>...</td>\n",
       "      <td>...</td>\n",
       "      <td>...</td>\n",
       "    </tr>\n",
       "    <tr>\n",
       "      <th>1833</th>\n",
       "      <td>To add chocolate and caramel to hot milk and c...</td>\n",
       "      <td>Chop the chocolate into small chunks. Bring th...</td>\n",
       "      <td>Chop the chocolate into small chunks. Bring th...</td>\n",
       "      <td>1</td>\n",
       "      <td>Please choose the best answer from the two opt...</td>\n",
       "      <td>To add chocolate and caramel to hot milk and c...</td>\n",
       "      <td>Chop the chocolate into small chunks. Bring th...</td>\n",
       "      <td>Instruction: Please choose the best answer fro...</td>\n",
       "      <td>Chop the chocolate into small chunks. Bring th...</td>\n",
       "      <td>[tensor(0), tensor(0), tensor(0), tensor(0), t...</td>\n",
       "      <td>Instruction: Please choose the best answer fro...</td>\n",
       "      <td>1\\n\\nExplanation: The instructions are the sam...</td>\n",
       "    </tr>\n",
       "    <tr>\n",
       "      <th>1834</th>\n",
       "      <td>To make orange pulp from oranges.</td>\n",
       "      <td>Peel the oranges and put in blender.</td>\n",
       "      <td>Peel the oranges and use a hand mixer.</td>\n",
       "      <td>0</td>\n",
       "      <td>Please choose the best answer from the two opt...</td>\n",
       "      <td>To make orange pulp from oranges. {Peel the or...</td>\n",
       "      <td>Peel the oranges and put in blender.</td>\n",
       "      <td>Instruction: Please choose the best answer fro...</td>\n",
       "      <td>Peel the oranges and put in blender.</td>\n",
       "      <td>[tensor(0), tensor(0), tensor(0), tensor(0), t...</td>\n",
       "      <td>Instruction: Please choose the best answer fro...</td>\n",
       "      <td>1.</td>\n",
       "    </tr>\n",
       "    <tr>\n",
       "      <th>1835</th>\n",
       "      <td>Roast marshmallows.</td>\n",
       "      <td>Create a fire using wood. Poke a marshmallow w...</td>\n",
       "      <td>Create a fire using wood. Poke a marshmallow w...</td>\n",
       "      <td>1</td>\n",
       "      <td>Please choose the best answer from the two opt...</td>\n",
       "      <td>Roast marshmallows. {Create a fire using wood....</td>\n",
       "      <td>Create a fire using wood. Poke a marshmallow w...</td>\n",
       "      <td>Instruction: Please choose the best answer fro...</td>\n",
       "      <td>Create a fire using wood. Poke a marshmallow w...</td>\n",
       "      <td>[tensor(0), tensor(0), tensor(0), tensor(0), t...</td>\n",
       "      <td>Instruction: Please choose the best answer fro...</td>\n",
       "      <td>1\\n\\nExplanation: The first option is clearer ...</td>\n",
       "    </tr>\n",
       "    <tr>\n",
       "      <th>1836</th>\n",
       "      <td>A power washer</td>\n",
       "      <td>can clean an aging cruise liner clear of grime</td>\n",
       "      <td>can clean a dirty white t shirt clear of grime</td>\n",
       "      <td>0</td>\n",
       "      <td>Please choose the best answer from the two opt...</td>\n",
       "      <td>A power washer {can clean an aging cruise line...</td>\n",
       "      <td>can clean an aging cruise liner clear of grime</td>\n",
       "      <td>Instruction: Please choose the best answer fro...</td>\n",
       "      <td>can clean an aging cruise liner clear of grime</td>\n",
       "      <td>[tensor(0), tensor(0), tensor(0), tensor(0), t...</td>\n",
       "      <td>Instruction: Please choose the best answer fro...</td>\n",
       "      <td>1</td>\n",
       "    </tr>\n",
       "    <tr>\n",
       "      <th>1837</th>\n",
       "      <td>Where can I buy a tennis ball</td>\n",
       "      <td>You can purchase a tennis ball at any sports s...</td>\n",
       "      <td>You can purchase a tennis racket at any sports...</td>\n",
       "      <td>0</td>\n",
       "      <td>Please choose the best answer from the two opt...</td>\n",
       "      <td>Where can I buy a tennis ball {You can purchas...</td>\n",
       "      <td>You can purchase a tennis ball at any sports s...</td>\n",
       "      <td>Instruction: Please choose the best answer fro...</td>\n",
       "      <td>You can purchase a tennis ball at any sports s...</td>\n",
       "      <td>[tensor(0), tensor(0), tensor(0), tensor(0), t...</td>\n",
       "      <td>Instruction: Please choose the best answer fro...</td>\n",
       "      <td>1</td>\n",
       "    </tr>\n",
       "  </tbody>\n",
       "</table>\n",
       "<p>1838 rows × 12 columns</p>\n",
       "</div>"
      ],
      "text/plain": [
       "                                                   goal  \\\n",
       "0     How do I ready a guinea pig cage for it's new ...   \n",
       "1                                               dresser   \n",
       "2     To fight Ivan Drago in Rocky for sega master s...   \n",
       "3                                  Make outdoor pillow.   \n",
       "4                                               ice box   \n",
       "...                                                 ...   \n",
       "1833  To add chocolate and caramel to hot milk and c...   \n",
       "1834                  To make orange pulp from oranges.   \n",
       "1835                                Roast marshmallows.   \n",
       "1836                                     A power washer   \n",
       "1837                      Where can I buy a tennis ball   \n",
       "\n",
       "                                                   sol1  \\\n",
       "0     Provide the guinea pig with a cage full of a f...   \n",
       "1                        replace drawer with bobby pin    \n",
       "2     Drago isn't in this game because it was releas...   \n",
       "3           Blow into tin can and tie with rubber band.   \n",
       "4        will turn into a cooler if you add water to it   \n",
       "...                                                 ...   \n",
       "1833  Chop the chocolate into small chunks. Bring th...   \n",
       "1834               Peel the oranges and put in blender.   \n",
       "1835  Create a fire using wood. Poke a marshmallow w...   \n",
       "1836     can clean an aging cruise liner clear of grime   \n",
       "1837  You can purchase a tennis ball at any sports s...   \n",
       "\n",
       "                                                   sol2  label  \\\n",
       "0     Provide the guinea pig with a cage full of a f...      0   \n",
       "1                    finish, woodgrain with  bobby pin       1   \n",
       "2     You have to defeat Apollo Creed and Clubber La...      1   \n",
       "3         Blow into trash bag and tie with rubber band.      1   \n",
       "4         will turn into a cooler if you add soda to it      0   \n",
       "...                                                 ...    ...   \n",
       "1833  Chop the chocolate into small chunks. Bring th...      1   \n",
       "1834             Peel the oranges and use a hand mixer.      0   \n",
       "1835  Create a fire using wood. Poke a marshmallow w...      1   \n",
       "1836     can clean a dirty white t shirt clear of grime      0   \n",
       "1837  You can purchase a tennis racket at any sports...      0   \n",
       "\n",
       "                                            instruction  \\\n",
       "0     Please choose the best answer from the two opt...   \n",
       "1     Please choose the best answer from the two opt...   \n",
       "2     Please choose the best answer from the two opt...   \n",
       "3     Please choose the best answer from the two opt...   \n",
       "4     Please choose the best answer from the two opt...   \n",
       "...                                                 ...   \n",
       "1833  Please choose the best answer from the two opt...   \n",
       "1834  Please choose the best answer from the two opt...   \n",
       "1835  Please choose the best answer from the two opt...   \n",
       "1836  Please choose the best answer from the two opt...   \n",
       "1837  Please choose the best answer from the two opt...   \n",
       "\n",
       "                                                  input  \\\n",
       "0     How do I ready a guinea pig cage for it's new ...   \n",
       "1     dresser {replace drawer with bobby pin /finish...   \n",
       "2     To fight Ivan Drago in Rocky for sega master s...   \n",
       "3     Make outdoor pillow. {Blow into tin can and ti...   \n",
       "4     ice box {will turn into a cooler if you add wa...   \n",
       "...                                                 ...   \n",
       "1833  To add chocolate and caramel to hot milk and c...   \n",
       "1834  To make orange pulp from oranges. {Peel the or...   \n",
       "1835  Roast marshmallows. {Create a fire using wood....   \n",
       "1836  A power washer {can clean an aging cruise line...   \n",
       "1837  Where can I buy a tennis ball {You can purchas...   \n",
       "\n",
       "                                                 output  \\\n",
       "0     Provide the guinea pig with a cage full of a f...   \n",
       "1                    finish, woodgrain with  bobby pin    \n",
       "2     You have to defeat Apollo Creed and Clubber La...   \n",
       "3         Blow into trash bag and tie with rubber band.   \n",
       "4        will turn into a cooler if you add water to it   \n",
       "...                                                 ...   \n",
       "1833  Chop the chocolate into small chunks. Bring th...   \n",
       "1834               Peel the oranges and put in blender.   \n",
       "1835  Create a fire using wood. Poke a marshmallow w...   \n",
       "1836     can clean an aging cruise liner clear of grime   \n",
       "1837  You can purchase a tennis ball at any sports s...   \n",
       "\n",
       "                                                context  \\\n",
       "0     Instruction: Please choose the best answer fro...   \n",
       "1     Instruction: Please choose the best answer fro...   \n",
       "2     Instruction: Please choose the best answer fro...   \n",
       "3     Instruction: Please choose the best answer fro...   \n",
       "4     Instruction: Please choose the best answer fro...   \n",
       "...                                                 ...   \n",
       "1833  Instruction: Please choose the best answer fro...   \n",
       "1834  Instruction: Please choose the best answer fro...   \n",
       "1835  Instruction: Please choose the best answer fro...   \n",
       "1836  Instruction: Please choose the best answer fro...   \n",
       "1837  Instruction: Please choose the best answer fro...   \n",
       "\n",
       "                                                 target  \\\n",
       "0     Provide the guinea pig with a cage full of a f...   \n",
       "1                    finish, woodgrain with  bobby pin    \n",
       "2     You have to defeat Apollo Creed and Clubber La...   \n",
       "3         Blow into trash bag and tie with rubber band.   \n",
       "4        will turn into a cooler if you add water to it   \n",
       "...                                                 ...   \n",
       "1833  Chop the chocolate into small chunks. Bring th...   \n",
       "1834               Peel the oranges and put in blender.   \n",
       "1835  Create a fire using wood. Poke a marshmallow w...   \n",
       "1836     can clean an aging cruise liner clear of grime   \n",
       "1837  You can purchase a tennis ball at any sports s...   \n",
       "\n",
       "                                                    res  \\\n",
       "0     [tensor(0), tensor(0), tensor(0), tensor(0), t...   \n",
       "1     [tensor(0), tensor(0), tensor(0), tensor(0), t...   \n",
       "2     [tensor(0), tensor(0), tensor(0), tensor(0), t...   \n",
       "3     [tensor(0), tensor(0), tensor(0), tensor(0), t...   \n",
       "4     [tensor(0), tensor(0), tensor(0), tensor(0), t...   \n",
       "...                                                 ...   \n",
       "1833  [tensor(0), tensor(0), tensor(0), tensor(0), t...   \n",
       "1834  [tensor(0), tensor(0), tensor(0), tensor(0), t...   \n",
       "1835  [tensor(0), tensor(0), tensor(0), tensor(0), t...   \n",
       "1836  [tensor(0), tensor(0), tensor(0), tensor(0), t...   \n",
       "1837  [tensor(0), tensor(0), tensor(0), tensor(0), t...   \n",
       "\n",
       "                                          res_sentences  \\\n",
       "0     Instruction: Please choose the best answer fro...   \n",
       "1     Instruction: Please choose the best answer fro...   \n",
       "2     Instruction: Please choose the best answer fro...   \n",
       "3     Instruction: Please choose the best answer fro...   \n",
       "4     Instruction: Please choose the best answer fro...   \n",
       "...                                                 ...   \n",
       "1833  Instruction: Please choose the best answer fro...   \n",
       "1834  Instruction: Please choose the best answer fro...   \n",
       "1835  Instruction: Please choose the best answer fro...   \n",
       "1836  Instruction: Please choose the best answer fro...   \n",
       "1837  Instruction: Please choose the best answer fro...   \n",
       "\n",
       "                                               out_text  \n",
       "0                                                    1.  \n",
       "1             \\n\\nOutput: bobby pin / finish, woodgrain  \n",
       "2                                                     1  \n",
       "3                                                    1.  \n",
       "4                                                     1  \n",
       "...                                                 ...  \n",
       "1833  1\\n\\nExplanation: The instructions are the sam...  \n",
       "1834                                                 1.  \n",
       "1835  1\\n\\nExplanation: The first option is clearer ...  \n",
       "1836                                                  1  \n",
       "1837                                                  1  \n",
       "\n",
       "[1838 rows x 12 columns]"
      ]
     },
     "execution_count": 13,
     "metadata": {},
     "output_type": "execute_result"
    }
   ],
   "source": [
    "dataset"
   ]
  },
  {
   "cell_type": "code",
   "execution_count": 14,
   "metadata": {},
   "outputs": [
    {
     "data": {
      "text/plain": [
       "array([0, 1])"
      ]
     },
     "execution_count": 14,
     "metadata": {},
     "output_type": "execute_result"
    }
   ],
   "source": [
    "dataset.label.unique()"
   ]
  },
  {
   "cell_type": "code",
   "execution_count": 26,
   "metadata": {},
   "outputs": [],
   "source": [
    "def change_target(x):\n",
    "    x = str(x)\n",
    "    if '1' in x: \n",
    "        return 0\n",
    "    elif '2' in x:\n",
    "        return 1\n",
    "    else:\n",
    "        import numpy as np\n",
    "        return np.nan"
   ]
  },
  {
   "cell_type": "code",
   "execution_count": 17,
   "metadata": {},
   "outputs": [
    {
     "data": {
      "text/plain": [
       "<AxesSubplot:>"
      ]
     },
     "execution_count": 17,
     "metadata": {},
     "output_type": "execute_result"
    },
    {
     "data": {
      "image/png": "[encoded data removed]",
      "text/plain": [
       "<Figure size 432x288 with 1 Axes>"
      ]
     },
     "metadata": {},
     "output_type": "display_data"
    }
   ],
   "source": [
    "# dataset[\"new_target\"] = dataset[\"target\"].apply(change_target)\n",
    "dataset[\"new_target\"] = dataset[\"label\"]\n",
    "dataset[\"new_target\"].hist()"
   ]
  },
  {
   "cell_type": "code",
   "execution_count": 27,
   "metadata": {},
   "outputs": [
    {
     "data": {
      "text/plain": [
       "<AxesSubplot:>"
      ]
     },
     "execution_count": 27,
     "metadata": {},
     "output_type": "execute_result"
    },
    {
     "data": {
      "image/png": "[encoded data removed]",
      "text/plain": [
       "<Figure size 432x288 with 1 Axes>"
      ]
     },
     "metadata": {},
     "output_type": "display_data"
    }
   ],
   "source": [
    "dataset[\"new_out\"] = dataset[\"out_text\"].apply(change_target)\n",
    "dataset[\"new_out\"].hist()"
   ]
  },
  {
   "cell_type": "markdown",
   "metadata": {},
   "source": [
    "### 8-bit"
   ]
  },
  {
   "cell_type": "code",
   "execution_count": 30,
   "metadata": {},
   "outputs": [],
   "source": [
    "dataset[\"new_out\"] = dataset[\"new_out\"].fillna(-1)"
   ]
  },
  {
   "cell_type": "code",
   "execution_count": 31,
   "metadata": {},
   "outputs": [
    {
     "data": {
      "text/plain": [
       "0.49347116430903154"
      ]
     },
     "execution_count": 31,
     "metadata": {},
     "output_type": "execute_result"
    }
   ],
   "source": [
    "acc = accuracy_score(dataset[\"new_target\"], dataset[\"new_out\"])\n",
    "acc"
   ]
  },
  {
   "cell_type": "code",
   "execution_count": 32,
   "metadata": {},
   "outputs": [
    {
     "data": {
      "text/plain": [
       "0.2870312481392829"
      ]
     },
     "execution_count": 32,
     "metadata": {},
     "output_type": "execute_result"
    }
   ],
   "source": [
    "f1 = f1_score(dataset[\"new_target\"], dataset[\"new_out\"], average = \"macro\")\n",
    "f1"
   ]
  },
  {
   "cell_type": "code",
   "execution_count": 35,
   "metadata": {},
   "outputs": [
    {
     "data": {
      "text/plain": [
       "0.49347116430903154"
      ]
     },
     "execution_count": 35,
     "metadata": {},
     "output_type": "execute_result"
    }
   ],
   "source": [
    "f1 = f1_score(dataset[\"new_target\"], dataset[\"new_out\"], average = \"micro\")\n",
    "f1"
   ]
  },
  {
   "cell_type": "code",
   "execution_count": 36,
   "metadata": {},
   "outputs": [
    {
     "data": {
      "text/plain": [
       "0.42840616148615157"
      ]
     },
     "execution_count": 36,
     "metadata": {},
     "output_type": "execute_result"
    }
   ],
   "source": [
    "f1 = f1_score(dataset[\"new_target\"], dataset[\"new_out\"], average = \"weighted\")\n",
    "f1"
   ]
  },
  {
   "cell_type": "markdown",
   "metadata": {},
   "source": [
    "### Full"
   ]
  },
  {
   "cell_type": "code",
   "execution_count": 37,
   "metadata": {},
   "outputs": [
    {
     "data": {
      "text/plain": [
       "0.49347116430903154"
      ]
     },
     "execution_count": 37,
     "metadata": {},
     "output_type": "execute_result"
    }
   ],
   "source": [
    "acc = accuracy_score(dataset[\"new_target\"], dataset[\"new_out\"])\n",
    "acc"
   ]
  },
  {
   "cell_type": "code",
   "execution_count": 38,
   "metadata": {},
   "outputs": [
    {
     "data": {
      "text/plain": [
       "0.2870312481392829"
      ]
     },
     "execution_count": 38,
     "metadata": {},
     "output_type": "execute_result"
    }
   ],
   "source": [
    "f1 = f1_score(dataset[\"new_target\"], dataset[\"new_out\"], average = \"macro\")\n",
    "f1"
   ]
  },
  {
   "cell_type": "code",
   "execution_count": 39,
   "metadata": {},
   "outputs": [
    {
     "data": {
      "text/plain": [
       "0.49347116430903154"
      ]
     },
     "execution_count": 39,
     "metadata": {},
     "output_type": "execute_result"
    }
   ],
   "source": [
    "f1 = f1_score(dataset[\"new_target\"], dataset[\"new_out\"], average = \"micro\")\n",
    "f1"
   ]
  },
  {
   "cell_type": "code",
   "execution_count": 40,
   "metadata": {},
   "outputs": [
    {
     "data": {
      "text/plain": [
       "0.42840616148615157"
      ]
     },
     "execution_count": 40,
     "metadata": {},
     "output_type": "execute_result"
    }
   ],
   "source": [
    "f1 = f1_score(dataset[\"new_target\"], dataset[\"new_out\"], average = \"weighted\")\n",
    "f1"
   ]
  },
  {
   "cell_type": "code",
   "execution_count": null,
   "metadata": {},
   "outputs": [],
   "source": []
  },
  {
   "cell_type": "code",
   "execution_count": null,
   "metadata": {},
   "outputs": [],
   "source": []
  },
  {
   "cell_type": "code",
   "execution_count": 41,
   "metadata": {},
   "outputs": [],
   "source": [
    "dataset.to_csv(\"fiqa_ori.csv\")"
   ]
  }
 ],
 "metadata": {
  "kernelspec": {
   "display_name": "Python 3",
   "language": "python",
   "name": "python3"
  },
  "language_info": {
   "codemirror_mode": {
    "name": "ipython",
    "version": 3
   },
   "file_extension": ".py",
   "mimetype": "text/x-python",
   "name": "python",
   "nbconvert_exporter": "python",
   "pygments_lexer": "ipython3",
   "version": "3.8.8"
  },
  "orig_nbformat": 4
 },
 "nbformat": 4,
 "nbformat_minor": 2
}
