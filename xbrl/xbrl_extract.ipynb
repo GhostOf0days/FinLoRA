{
 "cells": [
  {
   "cell_type": "code",
   "execution_count": 27,
   "id": "0a5ee93a-085a-402e-9a2b-37e512c5ea09",
   "metadata": {},
   "outputs": [],
   "source": [
    "import xml.etree.ElementTree as ET\n",
    "import re\n",
    "\n",
    "def find_elements_by_context_ref(xml_file, context_id):\n",
    "    try:\n",
    "        tree = ET.parse(xml_file)\n",
    "        root = tree.getroot()\n",
    "\n",
    "        matching_elements = []\n",
    "        for element in root.iter():\n",
    "\n",
    "            if element.get(\"contextRef\") == context_id and \"us-gaap\" in element.tag:\n",
    "                truncated_content = element.text[:100] if element.text else \"\"  # Truncate content\n",
    "                element.text = truncated_content\n",
    "                \n",
    "                ele = ET.tostring(element, encoding=\"unicode\").replace(\"ns0\", \"us-gaap\")\n",
    "                if \"TextBlock\" in ele or \"style=\" in ele:\n",
    "                    continue\n",
    "\n",
    "                ele = ele.replace('xmlns:us-gaap=\"http://fasb.org/us-gaap/2023\"', \"\").replace(f'contextRef=\"{context_id}\"', \"\") \n",
    "                ele = re.sub(r\"</.*?>\", \"</>\", ele)  # Remove closing tag text (to reduce token count)\n",
    "                ele = re.sub(r\"\\w+=\\\".*?\\\"\", \"\", ele)  # Remove attributes\n",
    "                ele = re.sub(r\"\\s+\", \" \", ele)  # Remove consecutive spaces\n",
    "\n",
    "                matching_elements.append(ele)\n",
    "\n",
    "        return \"\\n\".join(matching_elements)\n",
    "\n",
    "    except FileNotFoundError:\n",
    "        print(f\"Error: XML file not found: {xml_file}\")\n",
    "        return \"\"\n",
    "\n",
    "# replace the file name with xbrl raw text\n",
    "def add_xml(qa_string, limit=1000000):\n",
    "    if '<' not in qa_string or ',id:' not in qa_string:\n",
    "        return qa_string\n",
    "\n",
    "    # Extract information from the QA string\n",
    "    start = qa_string.find(\"<\") + 1\n",
    "    end = qa_string.find(\">\")\n",
    "    placeholder = qa_string[start:end]\n",
    "    parts = placeholder.split(\",id:\")\n",
    "    doc_path = \"DowJones30/\" + parts[0]\n",
    "    \n",
    "    context_id = parts[1]\n",
    "\n",
    "    # Get the XML content using the custom grep function\n",
    "    xml_content = find_elements_by_context_ref(doc_path, context_id)[:limit]\n",
    "\n",
    "    # Replace the placeholder with the XML content\n",
    "    new_qa_string = qa_string.replace(f\"<{placeholder}>\", xml_content + \"\\n\\n\")\n",
    "    return new_qa_string\n"
   ]
  },
  {
   "cell_type": "code",
   "execution_count": 37,
   "id": "1773b3dc-155a-45a2-bf10-09fa1927513d",
   "metadata": {},
   "outputs": [],
   "source": [
    "import json\n",
    "from typing import List, Dict\n",
    "from tqdm import tqdm\n",
    "import re\n",
    "import random\n",
    "import os.path\n",
    "\n",
    "def get_xbrl_dataset(data: List[Dict], example_q=None, example_a=None):\n",
    "    \"\"\"\n",
    "    Saves entries with matching category1 or category2 in the format for fine-tuning.\n",
    "\n",
    "    Args:\n",
    "        data (List[Dict]): The input JSON data.\n",
    "        category (str): The category name to match.\n",
    "        output_file (str): The output file path.\n",
    "    \"\"\"\n",
    "    \n",
    "    results = {}\n",
    "    for entry in tqdm(data):\n",
    "        if (entry[\"doc_path\"], entry[\"answer\"], entry[\"contextID\"][0]) in results.keys():\n",
    "            continue\n",
    "            \n",
    "        question = entry[\"query\"]\n",
    "        question = re.sub(r\"\\(.*?\\)\", \"\", question)\n",
    "        doc_path = entry[\"doc_path\"]\n",
    "        context_ids = entry[\"contextID\"]\n",
    "\n",
    "        if not os.path.isfile('DowJones30/' + doc_path):\n",
    "            # print(f\"missing file {doc_path}\")\n",
    "            continue\n",
    "\n",
    "            \n",
    "        example_qa = \"\"\n",
    "        if example_q != None and example_a != None:\n",
    "            example_qa = f\"\\nExample question: {example_q}\\nExample answer: {example_a}\"\n",
    "            \n",
    "        context = \\\n",
    "        f\"\"\"\"You are a knowledgeable XBRL assistant that can answer questions based on XML data. \n",
    "             You will be provided with a context extracted from an XBRL file and a question related to it. The example question can help you to learn the format of the answer.\n",
    "             Your task is to analyze the XBRL context and provide an accurate and very concise answer to the question, DO NOT output xml, code, explanation or create new question.\n",
    "            \\nXBRL file:\\n ```xml\\n <{doc_path},id:{context_ids[0]}> ```\\n\n",
    "            {example_qa}\n",
    "            \\nQuestion: {question}\n",
    "            \\nAnswer:\"\"\"\n",
    "\n",
    "\n",
    "        context_xml = add_xml(context)\n",
    "        if len(context_xml) > 24000:\n",
    "            continue\n",
    "        \n",
    "        target = entry[\"raw_answer\"]\n",
    "        # print(entry[\"answer\"])\n",
    "        # entry[\"doc_path\"], entry[\"answer\"], entry[\"contextID\"][0]\n",
    "        results[entry[\"doc_path\"], entry[\"answer\"], entry[\"contextID\"][0]] = {\"context\": context_xml, \"target\": str(target)}\n",
    "        \n",
    "    print(\"final length\", len(results))\n",
    "    return list(results.values())\n",
    "\n",
    "\n",
    "def save_entries_for_finetuning(dataset, cat):\n",
    "      test_data = dataset[:100] \n",
    "      train_data = dataset[100:]\n",
    "    \n",
    "      # Save the train data as JSONL\n",
    "      with open(f\"xbrl_{cat}_train.jsonl\", \"w\") as f_train:\n",
    "        for example in train_data:\n",
    "          f_train.write(json.dumps(example) + \"\\n\")\n",
    "    \n",
    "      # Save the test data as JSONL\n",
    "      with open(f\"xbrl_{cat}_test.jsonl\", \"w\") as f_test:\n",
    "        for example in test_data:\n",
    "          f_test.write(json.dumps(example) + \"\\n\")\n",
    "\n",
    "\n",
    "def gen_xbrl(cat, example_q, example_a):\n",
    "    with open(\"data/XBRL.json\", \"r\", encoding=\"utf-8\") as f:\n",
    "        data = json.load(f)\n",
    "        filtered_data = [entry for entry in data if entry['category1'] == cat or entry['category2'] == cat]\n",
    "        \n",
    "        print(f\"Total data size for this {cat}: {len(filtered_data)}\")\n",
    "        random.shuffle(filtered_data)\n",
    "        \n",
    "        # train_data = filtered_data[split_size:]\n",
    "        # train_data = train_data\n",
    "        \n",
    "        dataset = get_xbrl_dataset(filtered_data[:2500], example_q, example_a)\n",
    "        dataset = dataset[:1500]\n",
    "        save_entries_for_finetuning(dataset, cat)\n",
    "        "
   ]
  },
  {
   "cell_type": "code",
   "execution_count": 36,
   "id": "e6d109f6-b096-43b0-82d5-de5a19c43925",
   "metadata": {
    "scrolled": true
   },
   "outputs": [
    {
     "name": "stdout",
     "output_type": "stream",
     "text": [
      "Total data size for this xbrl_tags: 2730\n"
     ]
    },
    {
     "name": "stderr",
     "output_type": "stream",
     "text": [
      "100%|███████████████████████████████████████| 2730/2730 [00:30<00:00, 88.33it/s]"
     ]
    },
    {
     "name": "stdout",
     "output_type": "stream",
     "text": [
      "final length 546\n"
     ]
    },
    {
     "name": "stderr",
     "output_type": "stream",
     "text": [
      "\n"
     ]
    }
   ],
   "source": [
    "gen_xbrl(\"xbrl_tags\", \n",
    "         example_q = \"What is the US GAAP XBRL tag for Cash and Cash Equivalents as reported by Example Company Inc for the Fiscal Year ending in FY 2022\", \n",
    "         example_a = \"us-gaap:AnExampleTagName\")"
   ]
  },
  {
   "cell_type": "code",
   "execution_count": 38,
   "id": "81b08ecc-8809-4159-bc36-52c8accab3c0",
   "metadata": {
    "scrolled": true
   },
   "outputs": [
    {
     "name": "stdout",
     "output_type": "stream",
     "text": [
      "Total data size for this value: 12600\n"
     ]
    },
    {
     "name": "stderr",
     "output_type": "stream",
     "text": [
      "100%|███████████████████████████████████████| 2500/2500 [01:47<00:00, 23.32it/s]\n"
     ]
    },
    {
     "name": "stdout",
     "output_type": "stream",
     "text": [
      "final length 1574\n"
     ]
    }
   ],
   "source": [
    "gen_xbrl(\"value\", \n",
    "         example_q = \"What is the value of Exapmle company's income for the Fiscal year ending in FY 2020?\", \n",
    "         example_a = \"2540000000\")"
   ]
  },
  {
   "cell_type": "code",
   "execution_count": 39,
   "id": "d02a6391-9bae-4608-88aa-1a529d7f7bb1",
   "metadata": {},
   "outputs": [],
   "source": [
    "!rm xbrl_train.jsonl\n",
    "!cat *value_train* *tags_train* *tags_train* *tags_train*> xbrl_train.jsonl"
   ]
  },
  {
   "cell_type": "code",
   "execution_count": null,
   "id": "e015c68e-82c9-4062-86a3-35c5abe0f267",
   "metadata": {},
   "outputs": [],
   "source": []
  }
 ],
 "metadata": {
  "kernelspec": {
   "display_name": "Python 3 (ipykernel)",
   "language": "python",
   "name": "python3"
  },
  "language_info": {
   "codemirror_mode": {
    "name": "ipython",
    "version": 3
   },
   "file_extension": ".py",
   "mimetype": "text/x-python",
   "name": "python",
   "nbconvert_exporter": "python",
   "pygments_lexer": "ipython3",
   "version": "3.11.10"
  }
 },
 "nbformat": 4,
 "nbformat_minor": 5
}
