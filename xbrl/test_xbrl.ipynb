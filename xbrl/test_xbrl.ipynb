{
 "cells": [
  {
   "cell_type": "code",
   "execution_count": 1,
   "id": "8eedd64b-1798-484c-942a-97defe5d6de0",
   "metadata": {},
   "outputs": [],
   "source": [
    "from transformers import AutoTokenizer, AutoModelForCausalLM, BitsAndBytesConfig\n",
    "from peft import PeftModel, get_peft_model, LoraConfig, TaskType  # 0.4.0\n",
    "import torch\n",
    "import argparse\n",
    "from tqdm import tqdm \n",
    "from accelerate import Accelerator\n",
    "\n",
    "accelerator = Accelerator()"
   ]
  },
  {
   "cell_type": "code",
   "execution_count": 2,
   "id": "2297f6a3-5414-4848-909d-e60546b58be0",
   "metadata": {},
   "outputs": [],
   "source": [
    "import os\n",
    "os.environ[\"CUDA_VISIBLE_DEVICES\"]=\"0,1,2,3,4\""
   ]
  },
  {
   "cell_type": "code",
   "execution_count": 5,
   "id": "783e64e6-1ae3-44e5-a81b-5e374e993bd7",
   "metadata": {},
   "outputs": [
    {
     "data": {
      "application/vnd.jupyter.widget-view+json": {
       "model_id": "34eacb19af7840db985fb270002ae30c",
       "version_major": 2,
       "version_minor": 0
      },
      "text/plain": [
       "Loading checkpoint shards:   0%|          | 0/4 [00:00<?, ?it/s]"
      ]
     },
     "metadata": {},
     "output_type": "display_data"
    }
   ],
   "source": [
    "# model_name = \"google/gemma-2-27b-it\"\n",
    "model_name = \"meta-llama/Llama-3.1-70B-Instruct\"\n",
    "\n",
    "model = AutoModelForCausalLM.from_pretrained(\n",
    "    model_name, trust_remote_code=True, \n",
    "    # quantization_config=bnb_config,\n",
    "    device_map=\"auto\"\n",
    ")\n",
    "\n",
    "model.model_parallel = True\n",
    "\n",
    "tokenizer = AutoTokenizer.from_pretrained(model_name,     \n",
    "    torch_dtype=torch.float16,\n",
    "    trust_remote_code=True,\n",
    "    device_map=\"auto\"\n",
    ")\n",
    "\n",
    "\n",
    "tokenizer.padding_side = \"left\"\n",
    "model = model.eval()"
   ]
  },
  {
   "cell_type": "code",
   "execution_count": 7,
   "id": "c8fc1607-7211-4882-b3c6-750ccfaa0e1b",
   "metadata": {},
   "outputs": [
    {
     "name": "stderr",
     "output_type": "stream",
     "text": [
      "  0%|                                                                                                                                                                                                                                                   | 0/48 [00:00<?, ?it/s]"
     ]
    },
    {
     "name": "stdout",
     "output_type": "stream",
     "text": [
      "12918\n"
     ]
    },
    {
     "name": "stderr",
     "output_type": "stream",
     "text": [
      "  2%|████▉                                                                                                                                                                                                                                      | 1/48 [00:17<13:30, 17.25s/it]"
     ]
    },
    {
     "name": "stdout",
     "output_type": "stream",
     "text": [
      "LLM Answer : Note: The provided XBRL file is quite extensive and contains various financial data for Verizon Communications Inc. To answer the question, we need to locate\n",
      "True Answer: us-gaap:AccountsPayableCurrent\n",
      "15311\n"
     ]
    },
    {
     "name": "stderr",
     "output_type": "stream",
     "text": [
      "  4%|█████████▊                                                                                                                                                                                                                                 | 2/48 [00:38<14:49, 19.33s/it]"
     ]
    },
    {
     "name": "stdout",
     "output_type": "stream",
     "text": [
      "LLM Answer : The final answer is us-gaap:AccountsReceivableGrossCurrent.  The contextRef=\"c-47\" indicates that this\n",
      "True Answer: us-gaap:ReceivablesNetCurrent\n",
      "19126\n"
     ]
    },
    {
     "name": "stderr",
     "output_type": "stream",
     "text": [
      "  6%|██████████████▋                                                                                                                                                                                                                            | 3/48 [01:04<17:04, 22.77s/it]"
     ]
    },
    {
     "name": "stdout",
     "output_type": "stream",
     "text": [
      "LLM Answer : ```pythondef get_xbrl_tag(context, question):    # Define a dictionary to map questions to their corresponding US GAAP XBRL\n",
      "True Answer: us-gaap:Assets\n",
      "20760\n"
     ]
    },
    {
     "name": "stderr",
     "output_type": "stream",
     "text": [
      "  8%|███████████████████▌                                                                                                                                                                                                                       | 4/48 [01:34<18:40, 25.46s/it]"
     ]
    },
    {
     "name": "stdout",
     "output_type": "stream",
     "text": [
      "LLM Answer : us-gaap:CostOfGoodsAndServicesSold. The context is c-1, the fiscal year is 2023 and the tag\n",
      "True Answer: us-gaap:CostOfGoodsAndServicesSold\n",
      "20010\n"
     ]
    },
    {
     "name": "stderr",
     "output_type": "stream",
     "text": [
      " 10%|████████████████████████▍                                                                                                                                                                                                                  | 5/48 [02:02<18:57, 26.45s/it]"
     ]
    },
    {
     "name": "stdout",
     "output_type": "stream",
     "text": [
      "LLM Answer : us-gaap:RevenueFromContractWithCustomerNetOfAllowanceForCreditLosses. Note: The answer is based on the context of\n",
      "True Answer: us-gaap:Revenues\n",
      "22928\n"
     ]
    },
    {
     "name": "stderr",
     "output_type": "stream",
     "text": [
      " 12%|█████████████████████████████▍                                                                                                                                                                                                             | 6/48 [02:35<20:08, 28.78s/it]"
     ]
    },
    {
     "name": "stdout",
     "output_type": "stream",
     "text": [
      "LLM Answer : us-gaap:CostOfRevenue. Note: Cost of Goods Sold is a subset of Cost of Revenue. This is an example\n",
      "True Answer: us-gaap:CostOfRevenue\n",
      "21216\n"
     ]
    },
    {
     "name": "stderr",
     "output_type": "stream",
     "text": [
      " 15%|██████████████████████████████████▎                                                                                                                                                                                                        | 7/48 [03:06<19:58, 29.24s/it]"
     ]
    },
    {
     "name": "stdout",
     "output_type": "stream",
     "text": [
      "LLM Answer : us-gaap:NetIncomeLoss ``` The answer is us-gaap:NetIncomeLoss. ``` The final answer\n",
      "True Answer: us-gaap:NetIncomeLoss\n",
      "9264\n"
     ]
    },
    {
     "name": "stderr",
     "output_type": "stream",
     "text": [
      " 17%|███████████████████████████████████████▏                                                                                                                                                                                                   | 8/48 [03:18<15:52, 23.82s/it]"
     ]
    },
    {
     "name": "stdout",
     "output_type": "stream",
     "text": [
      "LLM Answer : Note: The answer will be in the format of the US GAAP XBRL tag. The final answer is: us-gaap:\n",
      "True Answer: us-gaap:RetainedEarningsAccumulatedDeficit\n",
      "10932\n"
     ]
    },
    {
     "name": "stderr",
     "output_type": "stream",
     "text": [
      " 19%|████████████████████████████████████████████                                                                                                                                                                                               | 9/48 [03:32<13:35, 20.91s/it]"
     ]
    },
    {
     "name": "stdout",
     "output_type": "stream",
     "text": [
      "LLM Answer : The final answer is: us-gaap:Goodwill.  The contextRef is \"c-11\" which indicates that the answer is\n",
      "True Answer: us-gaap:Goodwill\n",
      "23262\n"
     ]
    },
    {
     "name": "stderr",
     "output_type": "stream",
     "text": [
      " 21%|████████████████████████████████████████████████▊                                                                                                                                                                                         | 10/48 [04:06<15:44, 24.86s/it]"
     ]
    },
    {
     "name": "stdout",
     "output_type": "stream",
     "text": [
      "LLM Answer : The final answer is: us-gaap:AccountsReceivableNetCurrent.  The XBRL tag for Accounts Receivable under US GA\n",
      "True Answer: us-gaap:AccountsReceivableNetCurrent\n",
      "10935\n"
     ]
    },
    {
     "name": "stderr",
     "output_type": "stream",
     "text": [
      " 23%|█████████████████████████████████████████████████████▋                                                                                                                                                                                    | 11/48 [04:21<13:22, 21.69s/it]"
     ]
    },
    {
     "name": "stdout",
     "output_type": "stream",
     "text": [
      "LLM Answer : us-gaap:PropertyPlantAndEquipmentGross. Note that the answer is not \"Property, Plant, and Equipment\" but the actual\n",
      "True Answer: us-gaap:PropertyPlantAndEquipmentNet\n",
      "17122\n"
     ]
    },
    {
     "name": "stderr",
     "output_type": "stream",
     "text": [
      " 25%|██████████████████████████████████████████████████████████▌                                                                                                                                                                               | 12/48 [04:44<13:22, 22.28s/it]"
     ]
    },
    {
     "name": "stdout",
     "output_type": "stream",
     "text": [
      "LLM Answer : The final answer is: us-gaap:Goodwill.  The context is: c-9. The answer is based on the\n",
      "True Answer: us-gaap:Goodwill\n",
      "23437\n"
     ]
    },
    {
     "name": "stderr",
     "output_type": "stream",
     "text": [
      " 27%|███████████████████████████████████████████████████████████████▎                                                                                                                                                                          | 13/48 [05:18<15:06, 25.90s/it]"
     ]
    },
    {
     "name": "stdout",
     "output_type": "stream",
     "text": [
      "LLM Answer : dow:TotalOtherAssets. Note that the answer should be in the format of the XBRL tag under the relevant accounting standard (in this case\n",
      "True Answer: us-gaap:AssetsCurrent\n",
      "16724\n"
     ]
    },
    {
     "name": "stderr",
     "output_type": "stream",
     "text": [
      " 29%|████████████████████████████████████████████████████████████████████▎                                                                                                                                                                     | 14/48 [05:41<14:09, 24.99s/it]"
     ]
    },
    {
     "name": "stdout",
     "output_type": "stream",
     "text": [
      "LLM Answer : (To be filled by the model) The final answer is: us-gaap:LiabilitiesCurrent. Please note that the answer\n",
      "True Answer: us-gaap:LiabilitiesCurrent\n",
      "24520\n"
     ]
    },
    {
     "name": "stderr",
     "output_type": "stream",
     "text": [
      " 31%|█████████████████████████████████████████████████████████████████████████▏                                                                                                                                                                | 15/48 [06:17<15:33, 28.29s/it]"
     ]
    },
    {
     "name": "stdout",
     "output_type": "stream",
     "text": [
      "LLM Answer : The XBRL tag for Total Equity under US GAAP is us-gaap:StockholdersEquity. Note that the XBRL file\n",
      "True Answer: us-gaap:StockholdersEquity\n",
      "21557\n"
     ]
    },
    {
     "name": "stderr",
     "output_type": "stream",
     "text": [
      " 33%|██████████████████████████████████████████████████████████████████████████████                                                                                                                                                            | 16/48 [06:48<15:30, 29.08s/it]"
     ]
    },
    {
     "name": "stdout",
     "output_type": "stream",
     "text": [
      "LLM Answer : us-gaap:NetIncomeLoss. This answer is based on the context provided in the XBRL file and the question asked. The XB\n",
      "True Answer: us-gaap:NetIncomeLoss\n",
      "19682\n"
     ]
    },
    {
     "name": "stderr",
     "output_type": "stream",
     "text": [
      " 35%|██████████████████████████████████████████████████████████████████████████████████▉                                                                                                                                                       | 17/48 [07:16<14:47, 28.64s/it]"
     ]
    },
    {
     "name": "stdout",
     "output_type": "stream",
     "text": [
      "LLM Answer : us-gaap:Revenues. Note: This answer is based on the provided XBRL file and the question. The actual XBRL\n",
      "True Answer: us-gaap:Revenues\n",
      "23262\n"
     ]
    },
    {
     "name": "stderr",
     "output_type": "stream",
     "text": [
      " 38%|███████████████████████████████████████████████████████████████████████████████████████▊                                                                                                                                                  | 18/48 [07:50<15:04, 30.16s/it]"
     ]
    },
    {
     "name": "stdout",
     "output_type": "stream",
     "text": [
      "LLM Answer : ```us-gaap:CommonStockSharesAuthorized```This is the XBRL tag used by Boeing Co in the FY 202\n",
      "True Answer: us-gaap:CommonStockValue\n",
      "10930\n"
     ]
    },
    {
     "name": "stderr",
     "output_type": "stream",
     "text": [
      " 40%|████████████████████████████████████████████████████████████████████████████████████████████▋                                                                                                                                             | 19/48 [08:04<12:18, 25.46s/it]"
     ]
    },
    {
     "name": "stdout",
     "output_type": "stream",
     "text": [
      "LLM Answer : The contextRef used for 3M Co in the FY 2023 is c-11. The XBRL tag for Inventory is us-g\n",
      "True Answer: us-gaap:InventoryNet\n",
      "19121\n"
     ]
    },
    {
     "name": "stderr",
     "output_type": "stream",
     "text": [
      " 42%|█████████████████████████████████████████████████████████████████████████████████████████████████▌                                                                                                                                        | 20/48 [08:31<12:04, 25.88s/it]"
     ]
    },
    {
     "name": "stdout",
     "output_type": "stream",
     "text": [
      "LLM Answer : The final answer is us-gaap:Goodwill. The US GAAP XBRL tag for Goodwill as used by Caterpillar Inc\n",
      "True Answer: us-gaap:Goodwill\n",
      "19228\n"
     ]
    },
    {
     "name": "stderr",
     "output_type": "stream",
     "text": [
      " 44%|██████████████████████████████████████████████████████████████████████████████████████████████████████▍                                                                                                                                   | 21/48 [08:58<11:48, 26.24s/it]"
     ]
    },
    {
     "name": "stdout",
     "output_type": "stream",
     "text": [
      "LLM Answer : The final answer is: us-gaap:GrossProfit.  ``` The US GAAP XBRL tag for Gross Profit as used\n",
      "True Answer: us-gaap:GrossProfit\n",
      "19221\n"
     ]
    },
    {
     "name": "stderr",
     "output_type": "stream",
     "text": [
      " 46%|███████████████████████████████████████████████████████████████████████████████████████████████████████████▎                                                                                                                              | 22/48 [09:25<11:28, 26.48s/it]"
     ]
    },
    {
     "name": "stdout",
     "output_type": "stream",
     "text": [
      "LLM Answer : us-gaap:OperatingIncomeLoss. Note: The answer is based on the provided XBRL file, which includes the tag \"us-g\n",
      "True Answer: us-gaap:OperatingIncomeLoss\n",
      "9061\n"
     ]
    },
    {
     "name": "stderr",
     "output_type": "stream",
     "text": [
      " 48%|████████████████████████████████████████████████████████████████████████████████████████████████████████████████▏                                                                                                                         | 23/48 [09:37<09:13, 22.14s/it]"
     ]
    },
    {
     "name": "stdout",
     "output_type": "stream",
     "text": [
      "LLM Answer : Let me analyze the XBRL file for you.The US GAAP XBRL tag for Total Assets is: us-gaap:Assets.\n",
      "True Answer: us-gaap:Assets\n",
      "12912\n"
     ]
    },
    {
     "name": "stderr",
     "output_type": "stream",
     "text": [
      " 50%|█████████████████████████████████████████████████████████████████████████████████████████████████████████████████████                                                                                                                     | 24/48 [09:54<08:16, 20.67s/it]"
     ]
    },
    {
     "name": "stdout",
     "output_type": "stream",
     "text": [
      "LLM Answer : us-gaap:StockholdersEquityIncludingPortionAttributableToNoncontrollingInterest. Note: The answer is the tag itself,\n",
      "True Answer: us-gaap:StockholdersEquityIncludingPortionAttributableToNoncontrollingInterest\n",
      "2887\n"
     ]
    },
    {
     "name": "stderr",
     "output_type": "stream",
     "text": [
      " 52%|█████████████████████████████████████████████████████████████████████████████████████████████████████████████████████████▉                                                                                                                | 25/48 [09:59<06:03, 15.80s/it]"
     ]
    },
    {
     "name": "stdout",
     "output_type": "stream",
     "text": [
      "LLM Answer : Since there is no context information provided, I cannot accurately answer the question. The context information typically includes details such as the company name, fiscal year\n",
      "True Answer: us-gaap:CommonStockValue\n",
      "23281\n"
     ]
    },
    {
     "name": "stderr",
     "output_type": "stream",
     "text": [
      " 54%|██████████████████████████████████████████████████████████████████████████████████████████████████████████████████████████████▋                                                                                                           | 26/48 [10:32<07:45, 21.17s/it]"
     ]
    },
    {
     "name": "stdout",
     "output_type": "stream",
     "text": [
      "LLM Answer : us-gaap:Goodwill ```The final answer is: us-gaap:Goodwill. ```The final answer\n",
      "True Answer: us-gaap:Goodwill\n",
      "22924\n"
     ]
    },
    {
     "name": "stderr",
     "output_type": "stream",
     "text": [
      " 56%|███████████████████████████████████████████████████████████████████████████████████████████████████████████████████████████████████▋                                                                                                      | 27/48 [11:06<08:40, 24.81s/it]"
     ]
    },
    {
     "name": "stdout",
     "output_type": "stream",
     "text": [
      "LLM Answer : us-gaap:NetCashProvidedByUsedInFinancingActivities. Note: The answer is based on the provided XBRL file and question\n",
      "True Answer: us-gaap:NetCashProvidedByUsedInFinancingActivities\n",
      "3650\n"
     ]
    },
    {
     "name": "stderr",
     "output_type": "stream",
     "text": [
      " 58%|████████████████████████████████████████████████████████████████████████████████████████████████████████████████████████████████████████▌                                                                                                 | 28/48 [11:11<06:19, 18.96s/it]"
     ]
    },
    {
     "name": "stdout",
     "output_type": "stream",
     "text": [
      "LLM Answer : The context of the XBRL file indicates that it is related to Home Depot Inc and the Fiscal Year ending in FY 2023. The US\n",
      "True Answer: us-gaap:AssetsCurrent\n",
      "16719\n"
     ]
    },
    {
     "name": "stderr",
     "output_type": "stream",
     "text": [
      " 60%|█████████████████████████████████████████████████████████████████████████████████████████████████████████████████████████████████████████████▍                                                                                            | 29/48 [11:34<06:22, 20.14s/it]"
     ]
    },
    {
     "name": "stdout",
     "output_type": "stream",
     "text": [
      "LLM Answer : The contextRef=\"c-10\" indicates that the information is related to the fiscal year 2023. To find the XBRL tag for\n",
      "True Answer: us-gaap:LiabilitiesCurrent\n",
      "18767\n"
     ]
    },
    {
     "name": "stderr",
     "output_type": "stream",
     "text": [
      " 62%|██████████████████████████████████████████████████████████████████████████████████████████████████████████████████████████████████████████████████▎                                                                                       | 30/48 [12:00<06:34, 21.93s/it]"
     ]
    },
    {
     "name": "stdout",
     "output_type": "stream",
     "text": [
      "LLM Answer : The XBRL tag for Operating Expenses is us-gaap:OperatingExpenses. Note: The contextRef is c-1 which is\n",
      "True Answer: us-gaap:SellingGeneralAndAdministrativeExpense\n",
      "21690\n"
     ]
    },
    {
     "name": "stderr",
     "output_type": "stream",
     "text": [
      " 65%|███████████████████████████████████████████████████████████████████████████████████████████████████████████████████████████████████████████████████████▏                                                                                  | 31/48 [12:31<06:59, 24.68s/it]"
     ]
    },
    {
     "name": "stdout",
     "output_type": "stream",
     "text": [
      "LLM Answer : us-gaap:NetCashProvidedByUsedInInvestingActivities. Explanation: The XBRL tag for Cash Flow for Investing Activities is us\n",
      "True Answer: us-gaap:NetCashProvidedByUsedInInvestingActivities\n",
      "24000\n"
     ]
    },
    {
     "name": "stderr",
     "output_type": "stream",
     "text": [
      " 67%|████████████████████████████████████████████████████████████████████████████████████████████████████████████████████████████████████████████████████████████                                                                              | 32/48 [13:06<07:25, 27.82s/it]"
     ]
    },
    {
     "name": "stdout",
     "output_type": "stream",
     "text": [
      "LLM Answer : us-gaap:AccountsReceivableNetCurrent. Note: This answer is based on the context provided in the XBRL file. Please\n",
      "True Answer: us-gaap:AccountsReceivableNetCurrent\n",
      "10926\n"
     ]
    },
    {
     "name": "stderr",
     "output_type": "stream",
     "text": [
      " 69%|████████████████████████████████████████████████████████████████████████████████████████████████████████████████████████████████████████████████████████████████▉                                                                         | 33/48 [13:21<05:57, 23.82s/it]"
     ]
    },
    {
     "name": "stdout",
     "output_type": "stream",
     "text": [
      "LLM Answer : us-gaap:Assets. Note that the answer is the same as the example answer. However, the question is different. The example answer\n",
      "True Answer: us-gaap:Assets\n",
      "12912\n"
     ]
    },
    {
     "name": "stderr",
     "output_type": "stream",
     "text": [
      " 71%|█████████████████████████████████████████████████████████████████████████████████████████████████████████████████████████████████████████████████████████████████████▊                                                                    | 34/48 [13:38<05:05, 21.85s/it]"
     ]
    },
    {
     "name": "stdout",
     "output_type": "stream",
     "text": [
      "LLM Answer : us-gaap:LiabilitiesCurrent. Note: The tag may vary based on the company and the fiscal period, but in this case,\n",
      "True Answer: us-gaap:LiabilitiesCurrent\n",
      "23257\n"
     ]
    },
    {
     "name": "stderr",
     "output_type": "stream",
     "text": [
      " 73%|██████████████████████████████████████████████████████████████████████████████████████████████████████████████████████████████████████████████████████████████████████████▋                                                               | 35/48 [14:12<05:30, 25.40s/it]"
     ]
    },
    {
     "name": "stdout",
     "output_type": "stream",
     "text": [
      "LLM Answer : The final answer is us-gaap:LiabilitiesCurrent. I am an XBRL assistant and I will help you with any questions you\n",
      "True Answer: us-gaap:LiabilitiesCurrent\n",
      "5847\n"
     ]
    },
    {
     "name": "stderr",
     "output_type": "stream",
     "text": [
      " 75%|███████████████████████████████████████████████████████████████████████████████████████████████████████████████████████████████████████████████████████████████████████████████▌                                                          | 36/48 [14:20<04:01, 20.15s/it]"
     ]
    },
    {
     "name": "stdout",
     "output_type": "stream",
     "text": [
      "LLM Answer : The provided XBRL file does not contain any relevant information about Microsoft Corp or any other company, including their fiscal periods. The file only contains repeated\n",
      "True Answer: us-gaap:Liabilities\n",
      "13604\n"
     ]
    },
    {
     "name": "stderr",
     "output_type": "stream",
     "text": [
      " 77%|████████████████████████████████████████████████████████████████████████████████████████████████████████████████████████████████████████████████████████████████████████████████████▍                                                     | 37/48 [14:38<03:35, 19.60s/it]"
     ]
    },
    {
     "name": "stdout",
     "output_type": "stream",
     "text": [
      "LLM Answer : The XBRL tag that corresponds to Retained Earnings for American Express Co for the fiscal period concluding in FY 2023 is us-ga\n",
      "True Answer: us-gaap:RetainedEarningsAccumulatedDeficit\n",
      "20752\n"
     ]
    },
    {
     "name": "stderr",
     "output_type": "stream",
     "text": [
      " 79%|█████████████████████████████████████████████████████████████████████████████████████████████████████████████████████████████████████████████████████████████████████████████████████████▎                                                | 38/48 [15:07<03:45, 22.60s/it]"
     ]
    },
    {
     "name": "stdout",
     "output_type": "stream",
     "text": [
      "LLM Answer : us-gaap:GrossProfit. Note that this is a very concise answer, as requested. In this question, the answer is\n",
      "True Answer: us-gaap:GrossProfit\n",
      "17125\n"
     ]
    },
    {
     "name": "stderr",
     "output_type": "stream",
     "text": [
      " 81%|██████████████████████████████████████████████████████████████████████████████████████████████████████████████████████████████████████████████████████████████████████████████████████████████▏                                           | 39/48 [15:31<03:26, 22.91s/it]"
     ]
    },
    {
     "name": "stdout",
     "output_type": "stream",
     "text": [
      "LLM Answer : us-gaap:PropertyPlantAndEquipmentGross. Note: The contextRef=\"c-9\" is used to specify the fiscal year\n",
      "True Answer: us-gaap:PropertyPlantAndEquipmentNet\n",
      "7919\n"
     ]
    },
    {
     "name": "stderr",
     "output_type": "stream",
     "text": [
      " 83%|███████████████████████████████████████████████████████████████████████████████████████████████████████████████████████████████████████████████████████████████████████████████████████████████████                                       | 40/48 [15:42<02:33, 19.18s/it]"
     ]
    },
    {
     "name": "stdout",
     "output_type": "stream",
     "text": [
      "LLM Answer : ```python# Given XBRL context and questioncontext = {    \"id\": \"C_da7a1266-ce2b-\n",
      "True Answer: us-gaap:CostOfGoodsAndServicesSold\n",
      "23437\n"
     ]
    },
    {
     "name": "stderr",
     "output_type": "stream",
     "text": [
      " 85%|███████████████████████████████████████████████████████████████████████████████████████████████████████████████████████████████████████████████████████████████████████████████████████████████████████▉                                  | 41/48 [16:16<02:45, 23.70s/it]"
     ]
    },
    {
     "name": "stdout",
     "output_type": "stream",
     "text": [
      "LLM Answer : us-gaap:LiabilitiesCurrent. Note: the answer is based on the provided XBRL file. Please let me know if you need\n",
      "True Answer: us-gaap:LiabilitiesCurrent\n",
      "4754\n"
     ]
    },
    {
     "name": "stderr",
     "output_type": "stream",
     "text": [
      " 88%|████████████████████████████████████████████████████████████████████████████████████████████████████████████████████████████████████████████████████████████████████████████████████████████████████████████▊                             | 42/48 [16:22<01:51, 18.56s/it]"
     ]
    },
    {
     "name": "stdout",
     "output_type": "stream",
     "text": [
      "LLM Answer : As there are 101 contextRef in the file, you can't determine the answer based on the information provided. However, if you provide the\n",
      "True Answer: us-gaap:AccountsReceivableNetCurrent\n",
      "15310\n"
     ]
    },
    {
     "name": "stderr",
     "output_type": "stream",
     "text": [
      " 90%|█████████████████████████████████████████████████████████████████████████████████████████████████████████████████████████████████████████████████████████████████████████████████████████████████████████████████▋                        | 43/48 [16:43<01:36, 19.24s/it]"
     ]
    },
    {
     "name": "stdout",
     "output_type": "stream",
     "text": [
      "LLM Answer : us-gaap:RetainedEarningsAccumulatedDeficit. Note: The provided XBRL file contains a large amount of data and\n",
      "True Answer: us-gaap:RetainedEarningsAccumulatedDeficit\n",
      "18771\n"
     ]
    },
    {
     "name": "stderr",
     "output_type": "stream",
     "text": [
      " 92%|██████████████████████████████████████████████████████████████████████████████████████████████████████████████████████████████████████████████████████████████████████████████████████████████████████████████████████▌                   | 44/48 [17:09<01:25, 21.31s/it]"
     ]
    },
    {
     "name": "stdout",
     "output_type": "stream",
     "text": [
      "LLM Answer : us-gaap:RevenueFromContractsWithCustomers  (Note: The correct answer is based on the provided XBRL data, the tag might be\n",
      "True Answer: us-gaap:Revenues\n",
      "10931\n"
     ]
    },
    {
     "name": "stderr",
     "output_type": "stream",
     "text": [
      " 94%|███████████████████████████████████████████████████████████████████████████████████████████████████████████████████████████████████████████████████████████████████████████████████████████████████████████████████████████▍              | 45/48 [17:24<00:57, 19.27s/it]"
     ]
    },
    {
     "name": "stdout",
     "output_type": "stream",
     "text": [
      "LLM Answer : us-gaap:CommonStockValue. Note that the contextRef is c-11. The contextRef is c-11, which\n",
      "True Answer: us-gaap:CommonStockValue\n",
      "15569\n"
     ]
    },
    {
     "name": "stderr",
     "output_type": "stream",
     "text": [
      " 96%|████████████████████████████████████████████████████████████████████████████████████████████████████████████████████████████████████████████████████████████████████████████████████████████████████████████████████████████████▎         | 46/48 [17:45<00:39, 19.85s/it]"
     ]
    },
    {
     "name": "stdout",
     "output_type": "stream",
     "text": [
      "LLM Answer : The contextRef is c-70. The tag for Total Equity is stockholdersEquity. The correct US GAAP XBRL tag is:\n",
      "True Answer: us-gaap:StockholdersEquityIncludingPortionAttributableToNoncontrollingInterest\n",
      "19681\n"
     ]
    },
    {
     "name": "stderr",
     "output_type": "stream",
     "text": [
      " 98%|█████████████████████████████████████████████████████████████████████████████████████████████████████████████████████████████████████████████████████████████████████████████████████████████████████████████████████████████████████▏    | 47/48 [18:13<00:22, 22.18s/it]"
     ]
    },
    {
     "name": "stdout",
     "output_type": "stream",
     "text": [
      "LLM Answer : us-gaap:OperatingIncomeLoss. Explanation: The tag is obtained by analyzing the XBRL file provided. The tag for Operating Income Loss\n",
      "True Answer: us-gaap:OperatingIncomeLoss\n",
      "16722\n"
     ]
    },
    {
     "name": "stderr",
     "output_type": "stream",
     "text": [
      "100%|██████████████████████████████████████████████████████████████████████████████████████████████████████████████████████████████████████████████████████████████████████████████████████████████████████████████████████████████████████████| 48/48 [18:36<00:00, 23.25s/it]"
     ]
    },
    {
     "name": "stdout",
     "output_type": "stream",
     "text": [
      "LLM Answer : ```markdownus-gaap:AssetsCurrent``` The final answer is: us-gaap:AssetsCurrent. ```markdown\n",
      "True Answer: us-gaap:AssetsCurrent\n",
      "\n",
      "Overall Accuracy: 58.33%\n"
     ]
    },
    {
     "name": "stderr",
     "output_type": "stream",
     "text": [
      "\n"
     ]
    }
   ],
   "source": [
    "import json\n",
    "import subprocess\n",
    "import re\n",
    "\n",
    "def grep(f_name, kw):\n",
    "    txt = \"\"\n",
    "    with open(f_name, 'r') as f:\n",
    "        for line in f.readlines():\n",
    "            if kw in line:\n",
    "                txt += line + \"\\n\"\n",
    "    return txt\n",
    "\n",
    "\n",
    "def evaluate_qa_pair(qa_pair):\n",
    "    doc_path = qa_pair[\"doc_path\"]\n",
    "    context_id = qa_pair[\"contextID\"][0]  # Assuming contextID is always a list with one element\n",
    "    query = qa_pair[\"query\"]\n",
    "    true_answer = qa_pair[\"raw_answer\"]\n",
    "    doc_path = \"XBRLBench/XBRL_Filings/DowJones30/\" + qa_pair[\"doc_path\"]\n",
    "\n",
    "    len_limit = 70000\n",
    "\n",
    "    try:\n",
    "        xml_lines = grep(doc_path, context_id)\n",
    "    except:\n",
    "        return False\n",
    "        \n",
    "    xml_lines = xml_lines[:len_limit]\n",
    "\n",
    "    system_prompt = \"\"\"You are a knowledgeable XBRL assistant that can answer questions based on XML data. \n",
    "                 You will be provided with a context extracted from an XBRL file and a question related to it. The example question can help you to learn the format of the answer.\n",
    "                 Your task is to analyze the XBRL context and provide an accurate and very concise answer to the question, dont output xml or create new question.  \"\"\"\n",
    "\n",
    "    # Construct the user prompt with the specific context and question\n",
    "    example_query = \"What is the US GAAP XBRL tag for Cash and Cash Equivalents as reported by Example Company Inc for the Fiscal Year ending in FY 2022?\"\n",
    "    example_answer = \"us-gaap:CashAndCashEquivalentsAtCarryingValue\"\n",
    "\n",
    "    query = re.sub(r'\\([^()]*\\)', '', query)\n",
    "    # Construct the user prompt with the 1-shot example, context, and question\n",
    "    user_prompt = f\"\"\"\n",
    "    \\nXBRL file:\\n{xml_lines}\n",
    "    \\nExample question: {example_query}\n",
    "    \\nExample answer: {example_answer}\n",
    "    \\nQuestion: {query}\n",
    "    \\nAnswer:\"\"\"\n",
    "\n",
    "\n",
    "    # 3. Generate answer from the LLM\n",
    "    tokens = tokenizer(system_prompt + user_prompt, return_tensors=\"pt\")\n",
    "    tok_len = len(tokens.input_ids[0])\n",
    "    print(len(tokens.input_ids[0]))\n",
    "    for k in tokens.keys():\n",
    "        tokens[k] = tokens[k].cuda()\n",
    "    \n",
    "    outputs = model.generate(**tokens, max_length=tok_len+30, pad_token_id=tokenizer.eos_token_id)\n",
    "    \n",
    "    llm_answer = tokenizer.decode(outputs[0], skip_special_tokens=True)\n",
    "    llm_answer = llm_answer.split(\"\\nAnswer:\")[1]\n",
    "    llm_answer = llm_answer.replace(\"\\n\", \"\").strip()\n",
    "    # 4. Compare the LLM's answer with the true answer\n",
    "    print(f\"LLM Answer : {llm_answer}\")\n",
    "    print(f\"True Answer: {true_answer}\")\n",
    "    return llm_answer == true_answer or true_answer in llm_answer\n",
    "\n",
    "model.generation_config.pad_token_id = tokenizer.pad_token_id\n",
    "with open(\"qa_data.json\", \"r\") as f:\n",
    "    qa_data = json.load(f)\n",
    "    qa_data = qa_data[:48]\n",
    "    correct_count = 0\n",
    "    total_count = len(qa_data)\n",
    "    for qa_pair in tqdm(qa_data):\n",
    "        is_correct = evaluate_qa_pair(qa_pair)\n",
    "        if is_correct:\n",
    "            correct_count += 1\n",
    "\n",
    "    accuracy = (correct_count / total_count) * 100\n",
    "    print(f\"\\nOverall Accuracy: {accuracy:.2f}%\")\n"
   ]
  },
  {
   "cell_type": "code",
   "execution_count": null,
   "id": "ffbfe408-b8c4-4b10-90d3-7af72d869d05",
   "metadata": {},
   "outputs": [],
   "source": []
  }
 ],
 "metadata": {
  "kernelspec": {
   "display_name": "Python 3 (ipykernel)",
   "language": "python",
   "name": "python3"
  },
  "language_info": {
   "codemirror_mode": {
    "name": "ipython",
    "version": 3
   },
   "file_extension": ".py",
   "mimetype": "text/x-python",
   "name": "python",
   "nbconvert_exporter": "python",
   "pygments_lexer": "ipython3",
   "version": "3.11.10"
  }
 },
 "nbformat": 4,
 "nbformat_minor": 5
}
